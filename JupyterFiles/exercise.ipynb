{
 "cells": [
  {
   "cell_type": "code",
   "execution_count": 1,
   "id": "95f8783b",
   "metadata": {},
   "outputs": [],
   "source": [
    "def sum3(num1,num2,num3):\n",
    "    result = num1+num2+num3\n",
    "    return result\n",
    "\n",
    "num1 = float(input(\"enter num1: \"))\n",
    "num2 = float(input(\"enter num2: \"))\n",
    "num3 = float(input(\"enter num3: \"))\n",
    "print(\"the sum: \" ,sum3(num1,num2,num3))"
   ]
  },
  {
   "cell_type": "code",
   "execution_count": null,
   "id": "f7aff003",
   "metadata": {},
   "outputs": [
    {
     "ename": "",
     "evalue": "",
     "output_type": "error",
     "traceback": [
      "\u001b[1;31mRunning cells with 'Python 3.12.1' requires the ipykernel package.\n",
      "\u001b[1;31mRun the following command to install 'ipykernel' into the Python environment. \n",
      "\u001b[1;31mCommand: '/usr/local/bin/python3 -m pip install ipykernel -U --user --force-reinstall'"
     ]
    }
   ],
   "source": []
  }
 ],
 "metadata": {
  "kernelspec": {
   "display_name": "Python 3 (ipykernel)",
   "language": "python",
   "name": "python3"
  },
  "language_info": {
   "codemirror_mode": {
    "name": "ipython",
    "version": 3
   },
   "file_extension": ".py",
   "mimetype": "text/x-python",
   "name": "python",
   "nbconvert_exporter": "python",
   "pygments_lexer": "ipython3",
   "version": "3.12.1"
  }
 },
 "nbformat": 4,
 "nbformat_minor": 5
}
