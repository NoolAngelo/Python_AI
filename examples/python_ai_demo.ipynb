{
 "cells": [
  {
   "cell_type": "markdown",
   "id": "63fbf4f1",
   "metadata": {},
   "source": [
    "# Python AI & Algorithms Collection Demo\n",
    "\n",
    "This notebook demonstrates various algorithms and techniques in the Python_AI package."
   ]
  },
  {
   "cell_type": "markdown",
   "id": "6e28dfd1",
   "metadata": {},
   "source": [
    "## 1. Sorting Algorithms\n",
    "\n",
    "Let's start by exploring the different sorting algorithms."
   ]
  },
  {
   "cell_type": "code",
   "execution_count": null,
   "id": "696391eb",
   "metadata": {},
   "outputs": [],
   "source": [
    "import sys\n",
    "import os\n",
    "import time\n",
    "import random\n",
    "import matplotlib.pyplot as plt\n",
    "\n",
    "# Add the project directory to the path\n",
    "sys.path.insert(0, os.path.abspath('..'))\n",
    "\n",
    "# Import all sorting algorithms\n",
    "from sorting.bubble_sort import bubble\n",
    "from sorting.insertion_sort import insertion_sort\n",
    "from sorting.merge_sort import merge_sort\n",
    "from sorting.quick_sort import quicksort\n",
    "from sorting.Selection_sort import selection_sort"
   ]
  },
  {
   "cell_type": "code",
   "execution_count": null,
   "id": "75fcaae0",
   "metadata": {},
   "outputs": [],
   "source": [
    "def benchmark_sort(sort_func, data, name):\n",
    "    \"\"\"Benchmark a sorting function and return its execution time.\"\"\"\n",
    "    # Create a copy of the data to avoid modifying the original\n",
    "    data_copy = data.copy()\n",
    "    \n",
    "    # Measure execution time\n",
    "    start = time.time()\n",
    "    result = sort_func(data_copy)\n",
    "    end = time.time()\n",
    "    \n",
    "    # Return the time\n",
    "    return end - start\n",
    "\n",
    "# Generate random data\n",
    "random.seed(42)  # For reproducible results\n",
    "data = [random.randint(1, 1000) for _ in range(100)]\n",
    "\n",
    "# Test each algorithm\n",
    "times = {}\n",
    "times[\"Bubble Sort\"] = benchmark_sort(bubble, data, \"Bubble Sort\")\n",
    "times[\"Insertion Sort\"] = benchmark_sort(insertion_sort, data, \"Insertion Sort\")\n",
    "times[\"Merge Sort\"] = benchmark_sort(merge_sort, data, \"Merge Sort\")\n",
    "times[\"Quick Sort\"] = benchmark_sort(quicksort, data, \"Quick Sort\")\n",
    "times[\"Selection Sort\"] = benchmark_sort(selection_sort, data, \"Selection Sort\")\n",
    "times[\"Python sorted()\"] = benchmark_sort(sorted, data, \"Python sorted()\")\n",
    "\n",
    "# Plot results\n",
    "plt.figure(figsize=(10, 6))\n",
    "plt.bar(times.keys(), times.values())\n",
    "plt.ylabel('Execution time (seconds)')\n",
    "plt.title('Sorting Algorithm Performance')\n",
    "plt.xticks(rotation=45)\n",
    "plt.tight_layout()\n",
    "plt.show()"
   ]
  },
  {
   "cell_type": "markdown",
   "id": "c9293a7a",
   "metadata": {},
   "source": [
    "## 2. Maze Solving\n",
    "\n",
    "Next, let's explore the maze solving algorithms."
   ]
  },
  {
   "cell_type": "code",
   "execution_count": null,
   "id": "28e0584e",
   "metadata": {},
   "outputs": [],
   "source": [
    "from maze.maze_solver import Maze\n",
    "from IPython.display import Image, display\n",
    "import os\n",
    "\n",
    "# Create a simple maze for demonstration\n",
    "maze_data = \"\"\"\n",
    "##########\n",
    "#A       #\n",
    "#        #\n",
    "# ###### #\n",
    "# #    # #\n",
    "# #    # #\n",
    "#        #\n",
    "#       B#\n",
    "##########\n",
    "\"\"\"\n",
    "\n",
    "# Save to a temporary file\n",
    "with open(\"temp_maze.txt\", \"w\") as f:\n",
    "    f.write(maze_data)\n",
    "\n",
    "# Solve with DFS\n",
    "maze = Maze(\"temp_maze.txt\")\n",
    "print(\"Initial maze:\")\n",
    "maze.print()\n",
    "\n",
    "print(\"\\nSolving with DFS:\")\n",
    "maze.solve(algorithm=\"dfs\")\n",
    "maze.print()\n",
    "maze.output_image(\"dfs_solution.png\", show_explored=True)\n",
    "\n",
    "# Solve with BFS\n",
    "maze = Maze(\"temp_maze.txt\")\n",
    "print(\"\\nSolving with BFS:\")\n",
    "maze.solve(algorithm=\"bfs\")\n",
    "maze.print()\n",
    "maze.output_image(\"bfs_solution.png\", show_explored=True)\n",
    "\n",
    "# Display the images\n",
    "print(\"\\nDFS Solution:\")\n",
    "display(Image(filename=\"dfs_solution.png\"))\n",
    "\n",
    "print(\"\\nBFS Solution:\")\n",
    "display(Image(filename=\"bfs_solution.png\"))\n",
    "\n",
    "# Clean up\n",
    "os.remove(\"temp_maze.txt\")"
   ]
  },
  {
   "cell_type": "markdown",
   "id": "d473e23c",
   "metadata": {},
   "source": [
    "## 3. Knapsack Problem\n",
    "\n",
    "Finally, let's explore the knapsack problem solver."
   ]
  },
  {
   "cell_type": "code",
   "execution_count": null,
   "id": "67109d21",
   "metadata": {},
   "outputs": [],
   "source": [
    "from sorting.Knapsack import knapsack_01\n",
    "\n",
    "def print_knapsack_solution(weights, values, capacity):\n",
    "    \"\"\"Print a nicely formatted solution to a knapsack problem.\"\"\"\n",
    "    print(f\"Problem: Capacity = {capacity}\")\n",
    "    print(\"Items:\")\n",
    "    for i, (w, v) in enumerate(zip(weights, values), 1):\n",
    "        print(f\"  Item {i}: Weight = {w}, Value = {v}\")\n",
    "    \n",
    "    total_weight, total_value, num_items, selected_items = knapsack_01(weights, values, capacity)\n",
    "    \n",
    "    print(\"\\nSolution:\")\n",
    "    print(f\"  Total value: {total_value}\")\n",
    "    print(f\"  Total weight: {total_weight}/{capacity}\")\n",
    "    print(f\"  Number of items: {num_items}\")\n",
    "    print(\"  Selected items:\")\n",
    "    for item in selected_items:\n",
    "        idx = item - 1  # Convert from 1-indexed to 0-indexed\n",
    "        print(f\"    Item {item}: Weight = {weights[idx]}, Value = {values[idx]}\")\n",
    "    \n",
    "    print(f\"\\n  Efficiency: {total_value/total_weight:.2f} value/weight\")\n",
    "    print(\"\\n\" + \"-\" * 50 + \"\\n\")"
   ]
  },
  {
   "cell_type": "code",
   "execution_count": null,
   "id": "328a582e",
   "metadata": {},
   "outputs": [],
   "source": [
    "# Example 1: Basic problem\n",
    "weights1 = [10, 20, 30]\n",
    "values1 = [60, 100, 120]\n",
    "capacity1 = 50\n",
    "print_knapsack_solution(weights1, values1, capacity1)\n",
    "\n",
    "# Example 2: More realistic problem\n",
    "weights2 = [23, 31, 29, 44, 53, 38, 63, 85, 89, 82]\n",
    "values2 = [92, 57, 49, 68, 60, 43, 67, 84, 87, 72]\n",
    "capacity2 = 165\n",
    "print_knapsack_solution(weights2, values2, capacity2)"
   ]
  },
  {
   "cell_type": "markdown",
   "id": "9fbc3125",
   "metadata": {},
   "source": [
    "## 4. File Utilities\n",
    "\n",
    "Let's test the file utilities with a simple CSV."
   ]
  },
  {
   "cell_type": "code",
   "execution_count": null,
   "id": "9eb947f1",
   "metadata": {},
   "outputs": [],
   "source": [
    "import csv\n",
    "from utils.file_utils import parse_csv_to_dict\n",
    "\n",
    "# Create a sample CSV file\n",
    "sample_csv = \"sample_data.csv\"\n",
    "with open(sample_csv, 'w', newline='') as file:\n",
    "    writer = csv.writer(file)\n",
    "    writer.writerow([\"Name\", \"Age\", \"City\"])\n",
    "    writer.writerow([\"Alice\", 30, \"New York\"])\n",
    "    writer.writerow([\"Bob\", 25, \"Boston\"])\n",
    "    writer.writerow([\"Charlie\", 35, \"Chicago\"])\n",
    "    writer.writerow([\"Diana\", 28, \"Denver\"])\n",
    "\n",
    "# Read the CSV file\n",
    "try:\n",
    "    data = parse_csv_to_dict(sample_csv)\n",
    "    print(\"CSV Data:\")\n",
    "    for row in data:\n",
    "        print(row)\n",
    "except Exception as e:\n",
    "    print(f\"Error: {e}\")\n",
    "finally:\n",
    "    # Clean up\n",
    "    os.remove(sample_csv)"
   ]
  },
  {
   "cell_type": "markdown",
   "id": "abd7cecf",
   "metadata": {},
   "source": [
    "## Conclusion\n",
    "\n",
    "This notebook demonstrated various algorithms and utilities from the Python_AI package, including:\n",
    "\n",
    "1. Different sorting algorithms and their performance\n",
    "2. Maze solving using DFS and BFS\n",
    "3. The Knapsack problem solver\n",
    "4. File utilities for working with CSV files\n",
    "\n",
    "Feel free to explore more features and modify this notebook for your needs!"
   ]
  }
 ],
 "metadata": {
  "language_info": {
   "name": "python"
  }
 },
 "nbformat": 4,
 "nbformat_minor": 5
}
